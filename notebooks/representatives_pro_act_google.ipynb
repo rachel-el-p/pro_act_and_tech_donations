{
 "cells": [
  {
   "cell_type": "code",
   "execution_count": 4,
   "id": "5033ebb3",
   "metadata": {},
   "outputs": [],
   "source": [
    "import numpy as np\n",
    "import pandas as pd\n",
    "import re\n",
    "pd.set_option('display.max_columns', None)\n",
    "pd.set_option('display.max_rows', None)\n",
    "pd.set_option('display.width', None)\n",
    "pd.set_option('display.max_colwidth', None)\n",
    "pd.set_option('max_seq_item', None)"
   ]
  },
  {
   "cell_type": "code",
   "execution_count": 5,
   "id": "7fea489a",
   "metadata": {},
   "outputs": [],
   "source": [
    "df_rep_pro_act = pd.read_csv('representatives_signed_pro_act.csv')\n",
    "df_google = pd.read_csv('google_donations.csv')"
   ]
  },
  {
   "cell_type": "code",
   "execution_count": null,
   "id": "3e1aaa44",
   "metadata": {},
   "outputs": [],
   "source": [
    "df_rep_pro_act = df_rep_pro_act.dropna(axis=1)\n",
    "df_rep_pro_act"
   ]
  },
  {
   "cell_type": "code",
   "execution_count": null,
   "id": "8038be18",
   "metadata": {},
   "outputs": [],
   "source": [
    "df_rep_pro_act['last_name'] = df_rep_pro_act.representatives.str.split('Rep. ', expand=True)[1].str.split(',', expand=True)[0].str.upper()\n",
    "df_rep_pro_act['first_name'] = df_rep_pro_act.representatives.str.split('Rep. ', expand=True)[1].str.split(',', expand=True)[1].str.split('[',expand=True)[0].str.upper()\n",
    "df_rep_pro_act['first_name'] = df_rep_pro_act.representatives.apply(lambda x: re.split('[\\s.\"]+', x)[2]).str.upper()\n",
    "df_rep_pro_act['rep_name'] = df_rep_pro_act['last_name'].str.cat(df_rep_pro_act['first_name'], sep=' ')\n",
    "df_rep_pro_act"
   ]
  },
  {
   "cell_type": "code",
   "execution_count": null,
   "id": "6328463b",
   "metadata": {},
   "outputs": [],
   "source": [
    "df_google[['disbursement_amount', 'candidate_name', 'candidate_last_name', 'candidate_first_name', 'candidate_office']]"
   ]
  },
  {
   "cell_type": "code",
   "execution_count": 10,
   "id": "02b7503a",
   "metadata": {},
   "outputs": [],
   "source": [
    "merged_df = df_google.merge(df_rep_pro_act.set_index(['last_name', 'first_name']), \n",
    "                      left_on=['candidate_last_name', 'candidate_first_name'], \n",
    "                      right_index=True, \n",
    "                      how='left')"
   ]
  },
  {
   "cell_type": "code",
   "execution_count": null,
   "id": "6e90df72",
   "metadata": {},
   "outputs": [],
   "source": [
    "merged_df[['disbursement_amount', 'candidate_name', 'candidate_last_name', 'candidate_first_name', 'candidate_office', 'representatives']]"
   ]
  },
  {
   "cell_type": "code",
   "execution_count": 14,
   "id": "29e012df",
   "metadata": {},
   "outputs": [],
   "source": [
    "merged_df_1 = merged_df[merged_df['representatives'].notna()]\n",
    "rep_pro_act_and_google_money = merged_df_1[['disbursement_amount', 'candidate_name', 'candidate_last_name', 'candidate_first_name', 'candidate_office', 'representatives']]"
   ]
  },
  {
   "cell_type": "code",
   "execution_count": 15,
   "id": "a27a1f4e",
   "metadata": {},
   "outputs": [
    {
     "data": {
      "text/plain": [
       "197"
      ]
     },
     "execution_count": 15,
     "metadata": {},
     "output_type": "execute_result"
    }
   ],
   "source": [
    "len(rep_pro_act_and_google_money)"
   ]
  },
  {
   "cell_type": "code",
   "execution_count": 16,
   "id": "4f1a3001",
   "metadata": {},
   "outputs": [],
   "source": [
    "rep_pro_act_and_google_money = rep_pro_act_and_google_money.groupby('representatives').sum('disbursement_amount').sort_values(by='disbursement_amount', ascending=True).reset_index()"
   ]
  },
  {
   "cell_type": "code",
   "execution_count": 17,
   "id": "23c7ee2e",
   "metadata": {},
   "outputs": [
    {
     "data": {
      "text/plain": [
       "106"
      ]
     },
     "execution_count": 17,
     "metadata": {},
     "output_type": "execute_result"
    }
   ],
   "source": [
    "len(rep_pro_act_and_google_money)"
   ]
  },
  {
   "cell_type": "code",
   "execution_count": null,
   "id": "99d3e0df",
   "metadata": {},
   "outputs": [],
   "source": [
    "rep_pro_act_and_google_money"
   ]
  },
  {
   "cell_type": "code",
   "execution_count": 20,
   "id": "6387a62a",
   "metadata": {},
   "outputs": [],
   "source": [
    "rep_pro_act_and_google_money.to_csv('rep_pro_act_and_google_money.csv', index=False)"
   ]
  }
 ],
 "metadata": {
  "kernelspec": {
   "display_name": "Python 3 (ipykernel)",
   "language": "python",
   "name": "python3"
  },
  "language_info": {
   "codemirror_mode": {
    "name": "ipython",
    "version": 3
   },
   "file_extension": ".py",
   "mimetype": "text/x-python",
   "name": "python",
   "nbconvert_exporter": "python",
   "pygments_lexer": "ipython3",
   "version": "3.11.0rc2"
  }
 },
 "nbformat": 4,
 "nbformat_minor": 5
}
