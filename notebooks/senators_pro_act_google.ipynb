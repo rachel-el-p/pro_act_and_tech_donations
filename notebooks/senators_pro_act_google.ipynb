{
 "cells": [
  {
   "cell_type": "code",
   "execution_count": 19,
   "id": "c8977c9f",
   "metadata": {},
   "outputs": [],
   "source": [
    "import numpy as np\n",
    "import pandas as pd\n",
    "import re\n",
    "pd.set_option('display.max_columns', None)\n",
    "pd.set_option('display.max_rows', None)\n",
    "pd.set_option('display.width', None)\n",
    "pd.set_option('display.max_colwidth', None)\n",
    "pd.set_option('max_seq_item', None)"
   ]
  },
  {
   "cell_type": "code",
   "execution_count": 20,
   "id": "96503439",
   "metadata": {},
   "outputs": [],
   "source": [
    "df_sen_pro_act = pd.read_csv('/Users/rachelp/Documents/data-studio/pro_act_and_tech_donations/raw_data/senators_signed_pro_act.csv')\n",
    "df_google = pd.read_csv('/Users/rachelp/Documents/data-studio/pro_act_and_tech_donations/raw_data/google_donations.csv')"
   ]
  },
  {
   "cell_type": "code",
   "execution_count": 21,
   "id": "826bac42",
   "metadata": {},
   "outputs": [
    {
     "data": {
      "text/html": [
       "<div>\n",
       "<style scoped>\n",
       "    .dataframe tbody tr th:only-of-type {\n",
       "        vertical-align: middle;\n",
       "    }\n",
       "\n",
       "    .dataframe tbody tr th {\n",
       "        vertical-align: top;\n",
       "    }\n",
       "\n",
       "    .dataframe thead th {\n",
       "        text-align: right;\n",
       "    }\n",
       "</style>\n",
       "<table border=\"1\" class=\"dataframe\">\n",
       "  <thead>\n",
       "    <tr style=\"text-align: right;\">\n",
       "      <th></th>\n",
       "      <th>senators</th>\n",
       "      <th>last_name</th>\n",
       "    </tr>\n",
       "  </thead>\n",
       "  <tbody>\n",
       "    <tr>\n",
       "      <th>0</th>\n",
       "      <td>Sen. Murray, Patricia [D-WA]</td>\n",
       "      <td>MURRAY</td>\n",
       "    </tr>\n",
       "    <tr>\n",
       "      <th>1</th>\n",
       "      <td>Sen. Schumer, Charles E. [D-NY]*</td>\n",
       "      <td>SCHUMER</td>\n",
       "    </tr>\n",
       "    <tr>\n",
       "      <th>2</th>\n",
       "      <td>Sen. Blumenthal, Richard [D-CT]*</td>\n",
       "      <td>BLUMENTHAL</td>\n",
       "    </tr>\n",
       "    <tr>\n",
       "      <th>3</th>\n",
       "      <td>Sen. Duckworth, Tammy [D-IL]*</td>\n",
       "      <td>DUCKWORTH</td>\n",
       "    </tr>\n",
       "    <tr>\n",
       "      <th>4</th>\n",
       "      <td>Sen. Booker, Cory A. [D-NJ]*</td>\n",
       "      <td>BOOKER</td>\n",
       "    </tr>\n",
       "  </tbody>\n",
       "</table>\n",
       "</div>"
      ],
      "text/plain": [
       "                           senators   last_name\n",
       "0      Sen. Murray, Patricia [D-WA]      MURRAY\n",
       "1  Sen. Schumer, Charles E. [D-NY]*     SCHUMER\n",
       "2  Sen. Blumenthal, Richard [D-CT]*  BLUMENTHAL\n",
       "3     Sen. Duckworth, Tammy [D-IL]*   DUCKWORTH\n",
       "4      Sen. Booker, Cory A. [D-NJ]*      BOOKER"
      ]
     },
     "execution_count": 21,
     "metadata": {},
     "output_type": "execute_result"
    }
   ],
   "source": [
    "df_sen_pro_act['last_name'] = df_sen_pro_act.senators.str.split('Sen. ', expand=True)[1].str.split(',', expand=True)[0].str.upper()\n",
    "df_sen_pro_act.head()"
   ]
  },
  {
   "cell_type": "code",
   "execution_count": 22,
   "id": "5415416a",
   "metadata": {},
   "outputs": [
    {
     "data": {
      "text/html": [
       "<div>\n",
       "<style scoped>\n",
       "    .dataframe tbody tr th:only-of-type {\n",
       "        vertical-align: middle;\n",
       "    }\n",
       "\n",
       "    .dataframe tbody tr th {\n",
       "        vertical-align: top;\n",
       "    }\n",
       "\n",
       "    .dataframe thead th {\n",
       "        text-align: right;\n",
       "    }\n",
       "</style>\n",
       "<table border=\"1\" class=\"dataframe\">\n",
       "  <thead>\n",
       "    <tr style=\"text-align: right;\">\n",
       "      <th></th>\n",
       "      <th>senators</th>\n",
       "      <th>last_name</th>\n",
       "      <th>first_name</th>\n",
       "    </tr>\n",
       "  </thead>\n",
       "  <tbody>\n",
       "    <tr>\n",
       "      <th>0</th>\n",
       "      <td>Sen. Murray, Patricia [D-WA]</td>\n",
       "      <td>MURRAY</td>\n",
       "      <td>PATRICIA</td>\n",
       "    </tr>\n",
       "    <tr>\n",
       "      <th>1</th>\n",
       "      <td>Sen. Schumer, Charles E. [D-NY]*</td>\n",
       "      <td>SCHUMER</td>\n",
       "      <td>CHARLES E.</td>\n",
       "    </tr>\n",
       "    <tr>\n",
       "      <th>2</th>\n",
       "      <td>Sen. Blumenthal, Richard [D-CT]*</td>\n",
       "      <td>BLUMENTHAL</td>\n",
       "      <td>RICHARD</td>\n",
       "    </tr>\n",
       "    <tr>\n",
       "      <th>3</th>\n",
       "      <td>Sen. Duckworth, Tammy [D-IL]*</td>\n",
       "      <td>DUCKWORTH</td>\n",
       "      <td>TAMMY</td>\n",
       "    </tr>\n",
       "    <tr>\n",
       "      <th>4</th>\n",
       "      <td>Sen. Booker, Cory A. [D-NJ]*</td>\n",
       "      <td>BOOKER</td>\n",
       "      <td>CORY A.</td>\n",
       "    </tr>\n",
       "  </tbody>\n",
       "</table>\n",
       "</div>"
      ],
      "text/plain": [
       "                           senators   last_name    first_name\n",
       "0      Sen. Murray, Patricia [D-WA]      MURRAY     PATRICIA \n",
       "1  Sen. Schumer, Charles E. [D-NY]*     SCHUMER   CHARLES E. \n",
       "2  Sen. Blumenthal, Richard [D-CT]*  BLUMENTHAL      RICHARD \n",
       "3     Sen. Duckworth, Tammy [D-IL]*   DUCKWORTH        TAMMY \n",
       "4      Sen. Booker, Cory A. [D-NJ]*      BOOKER      CORY A. "
      ]
     },
     "execution_count": 22,
     "metadata": {},
     "output_type": "execute_result"
    }
   ],
   "source": [
    "df_sen_pro_act['first_name'] = df_sen_pro_act.senators.str.split('Sen. ', expand=True)[1].str.split(',', expand=True)[1].str.split('[',expand=True)[0].str.upper()\n",
    "df_sen_pro_act.head()"
   ]
  },
  {
   "cell_type": "code",
   "execution_count": 23,
   "id": "1bfba300",
   "metadata": {},
   "outputs": [
    {
     "data": {
      "text/html": [
       "<div>\n",
       "<style scoped>\n",
       "    .dataframe tbody tr th:only-of-type {\n",
       "        vertical-align: middle;\n",
       "    }\n",
       "\n",
       "    .dataframe tbody tr th {\n",
       "        vertical-align: top;\n",
       "    }\n",
       "\n",
       "    .dataframe thead th {\n",
       "        text-align: right;\n",
       "    }\n",
       "</style>\n",
       "<table border=\"1\" class=\"dataframe\">\n",
       "  <thead>\n",
       "    <tr style=\"text-align: right;\">\n",
       "      <th></th>\n",
       "      <th>senators</th>\n",
       "      <th>last_name</th>\n",
       "      <th>first_name</th>\n",
       "    </tr>\n",
       "  </thead>\n",
       "  <tbody>\n",
       "    <tr>\n",
       "      <th>0</th>\n",
       "      <td>Sen. Murray, Patricia [D-WA]</td>\n",
       "      <td>MURRAY</td>\n",
       "      <td>PATRICIA</td>\n",
       "    </tr>\n",
       "    <tr>\n",
       "      <th>1</th>\n",
       "      <td>Sen. Schumer, Charles E. [D-NY]*</td>\n",
       "      <td>SCHUMER</td>\n",
       "      <td>CHARLES</td>\n",
       "    </tr>\n",
       "    <tr>\n",
       "      <th>2</th>\n",
       "      <td>Sen. Blumenthal, Richard [D-CT]*</td>\n",
       "      <td>BLUMENTHAL</td>\n",
       "      <td>RICHARD</td>\n",
       "    </tr>\n",
       "    <tr>\n",
       "      <th>3</th>\n",
       "      <td>Sen. Duckworth, Tammy [D-IL]*</td>\n",
       "      <td>DUCKWORTH</td>\n",
       "      <td>TAMMY</td>\n",
       "    </tr>\n",
       "    <tr>\n",
       "      <th>4</th>\n",
       "      <td>Sen. Booker, Cory A. [D-NJ]*</td>\n",
       "      <td>BOOKER</td>\n",
       "      <td>CORY</td>\n",
       "    </tr>\n",
       "  </tbody>\n",
       "</table>\n",
       "</div>"
      ],
      "text/plain": [
       "                           senators   last_name first_name\n",
       "0      Sen. Murray, Patricia [D-WA]      MURRAY   PATRICIA\n",
       "1  Sen. Schumer, Charles E. [D-NY]*     SCHUMER    CHARLES\n",
       "2  Sen. Blumenthal, Richard [D-CT]*  BLUMENTHAL    RICHARD\n",
       "3     Sen. Duckworth, Tammy [D-IL]*   DUCKWORTH      TAMMY\n",
       "4      Sen. Booker, Cory A. [D-NJ]*      BOOKER       CORY"
      ]
     },
     "execution_count": 23,
     "metadata": {},
     "output_type": "execute_result"
    }
   ],
   "source": [
    "df_sen_pro_act['first_name'] = df_sen_pro_act['first_name'].apply(lambda x: x.split()[0])\n",
    "df_sen_pro_act.head()"
   ]
  },
  {
   "cell_type": "code",
   "execution_count": 24,
   "id": "ce810aa9",
   "metadata": {},
   "outputs": [
    {
     "data": {
      "text/html": [
       "<div>\n",
       "<style scoped>\n",
       "    .dataframe tbody tr th:only-of-type {\n",
       "        vertical-align: middle;\n",
       "    }\n",
       "\n",
       "    .dataframe tbody tr th {\n",
       "        vertical-align: top;\n",
       "    }\n",
       "\n",
       "    .dataframe thead th {\n",
       "        text-align: right;\n",
       "    }\n",
       "</style>\n",
       "<table border=\"1\" class=\"dataframe\">\n",
       "  <thead>\n",
       "    <tr style=\"text-align: right;\">\n",
       "      <th></th>\n",
       "      <th>disbursement_amount</th>\n",
       "      <th>candidate_name</th>\n",
       "      <th>candidate_last_name</th>\n",
       "      <th>candidate_first_name</th>\n",
       "      <th>candidate_office</th>\n",
       "    </tr>\n",
       "  </thead>\n",
       "  <tbody>\n",
       "    <tr>\n",
       "      <th>0</th>\n",
       "      <td>-5000</td>\n",
       "      <td>LUMMIS, CYNTHIA</td>\n",
       "      <td>LUMMIS</td>\n",
       "      <td>CYNTHIA</td>\n",
       "      <td>S</td>\n",
       "    </tr>\n",
       "  </tbody>\n",
       "</table>\n",
       "</div>"
      ],
      "text/plain": [
       "   disbursement_amount   candidate_name candidate_last_name  \\\n",
       "0                -5000  LUMMIS, CYNTHIA              LUMMIS   \n",
       "\n",
       "  candidate_first_name candidate_office  \n",
       "0              CYNTHIA                S  "
      ]
     },
     "execution_count": 24,
     "metadata": {},
     "output_type": "execute_result"
    }
   ],
   "source": [
    "df_google[['disbursement_amount', 'candidate_name', 'candidate_last_name', 'candidate_first_name', 'candidate_office']].head(1)"
   ]
  },
  {
   "cell_type": "code",
   "execution_count": 25,
   "id": "6ef1e3df",
   "metadata": {},
   "outputs": [],
   "source": [
    "merged_df = df_google.merge(df_sen_pro_act.set_index(['last_name', 'first_name']), \n",
    "                      left_on=['candidate_last_name', 'candidate_first_name'], \n",
    "                      right_index=True, \n",
    "                      how='left')"
   ]
  },
  {
   "cell_type": "code",
   "execution_count": 26,
   "id": "0115d9b5",
   "metadata": {},
   "outputs": [],
   "source": [
    "merged_df_1 = merged_df[merged_df['senators'].notna()]\n",
    "sen_pro_act_and_google_money = merged_df_1[['disbursement_amount', 'candidate_name', 'candidate_last_name', 'candidate_first_name', 'candidate_office', 'senators']]"
   ]
  },
  {
   "cell_type": "code",
   "execution_count": 27,
   "id": "414ab160",
   "metadata": {},
   "outputs": [],
   "source": [
    "sen_pro_act_and_google_money = sen_pro_act_and_google_money.groupby('senators').sum('disbursement_amount').sort_values(by='disbursement_amount', ascending=True).reset_index()"
   ]
  },
  {
   "cell_type": "code",
   "execution_count": 28,
   "id": "dbb26950",
   "metadata": {},
   "outputs": [
    {
     "data": {
      "text/html": [
       "<div>\n",
       "<style scoped>\n",
       "    .dataframe tbody tr th:only-of-type {\n",
       "        vertical-align: middle;\n",
       "    }\n",
       "\n",
       "    .dataframe tbody tr th {\n",
       "        vertical-align: top;\n",
       "    }\n",
       "\n",
       "    .dataframe thead th {\n",
       "        text-align: right;\n",
       "    }\n",
       "</style>\n",
       "<table border=\"1\" class=\"dataframe\">\n",
       "  <thead>\n",
       "    <tr style=\"text-align: right;\">\n",
       "      <th></th>\n",
       "      <th>senators</th>\n",
       "      <th>disbursement_amount</th>\n",
       "    </tr>\n",
       "  </thead>\n",
       "  <tbody>\n",
       "    <tr>\n",
       "      <th>0</th>\n",
       "      <td>Sen. Merkley, Jeff [D-OR]*</td>\n",
       "      <td>-4000</td>\n",
       "    </tr>\n",
       "  </tbody>\n",
       "</table>\n",
       "</div>"
      ],
      "text/plain": [
       "                     senators disbursement_amount\n",
       "0  Sen. Merkley, Jeff [D-OR]*               -4000"
      ]
     },
     "execution_count": 28,
     "metadata": {},
     "output_type": "execute_result"
    }
   ],
   "source": [
    "duckworth = pd.DataFrame({'senators': ['Sen. Duckworth, Tammy [D-IL]*'], 'disbursement_amount': ['7500.0']})\n",
    "\n",
    "# concatenate the two dataframes along the axis=0\n",
    "sen_pro_act_and_google_money_2 = pd.concat([sen_pro_act_and_google_money, duckworth], axis=0, ignore_index=True)\n",
    "\n",
    "sen_pro_act_and_google_money = sen_pro_act_and_google_money_2\n",
    "sen_pro_act_and_google_money.head(1)"
   ]
  },
  {
   "cell_type": "code",
   "execution_count": 29,
   "id": "f1ebc5c8",
   "metadata": {},
   "outputs": [],
   "source": [
    "sen_pro_act_and_google_money['disbursement_amount'] = sen_pro_act_and_google_money['disbursement_amount'].astype(float)"
   ]
  },
  {
   "cell_type": "code",
   "execution_count": 30,
   "id": "3ce7d55b",
   "metadata": {},
   "outputs": [],
   "source": [
    "sen_pro_act_and_google_money.to_csv('sen_pro_act_and_google_money.csv', index=False)"
   ]
  },
  {
   "cell_type": "code",
   "execution_count": null,
   "id": "b3720f1f",
   "metadata": {},
   "outputs": [],
   "source": [
    "import os\n",
    "\n",
    "directory = '/Users/rachelp/Downloads/lawmakers_pro_act_google_money'\n",
    "file_list = [os.path.join(directory, f) for f in os.listdir(directory) if f.endswith('.csv')]"
   ]
  },
  {
   "cell_type": "code",
   "execution_count": 22,
   "id": "a63d6b65",
   "metadata": {},
   "outputs": [],
   "source": [
    "google_data = pd.DataFrame()"
   ]
  },
  {
   "cell_type": "code",
   "execution_count": 23,
   "id": "1a39ab1e",
   "metadata": {},
   "outputs": [],
   "source": [
    "for file_name in file_list:\n",
    "    data = pd.read_csv(file_name)\n",
    "    google_data = pd.concat([google_data, data], ignore_index=True)"
   ]
  },
  {
   "cell_type": "code",
   "execution_count": 24,
   "id": "f211ca13",
   "metadata": {},
   "outputs": [],
   "source": [
    "google_data.to_csv('google_data.csv', index=False)"
   ]
  },
  {
   "cell_type": "code",
   "execution_count": null,
   "id": "e45fb59f",
   "metadata": {},
   "outputs": [],
   "source": []
  }
 ],
 "metadata": {
  "kernelspec": {
   "display_name": "Python 3 (ipykernel)",
   "language": "python",
   "name": "python3"
  },
  "language_info": {
   "codemirror_mode": {
    "name": "ipython",
    "version": 3
   },
   "file_extension": ".py",
   "mimetype": "text/x-python",
   "name": "python",
   "nbconvert_exporter": "python",
   "pygments_lexer": "ipython3",
   "version": "3.11.0rc2"
  }
 },
 "nbformat": 4,
 "nbformat_minor": 5
}
