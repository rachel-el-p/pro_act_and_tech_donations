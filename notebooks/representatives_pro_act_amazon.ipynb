{
 "cells": [
  {
   "cell_type": "code",
   "execution_count": 1,
   "id": "583ea906",
   "metadata": {},
   "outputs": [],
   "source": [
    "import numpy as np\n",
    "import pandas as pd"
   ]
  },
  {
   "cell_type": "code",
   "execution_count": 3,
   "id": "87ad9e93",
   "metadata": {},
   "outputs": [],
   "source": [
    "pd.set_option('display.max_columns', None)\n",
    "pd.set_option('display.max_rows', None)\n",
    "pd.set_option('display.width', None)\n",
    "pd.set_option('display.max_colwidth', None)\n",
    "pd.set_option('max_seq_item', None)"
   ]
  },
  {
   "cell_type": "code",
   "execution_count": 9,
   "id": "8ecbd235",
   "metadata": {},
   "outputs": [],
   "source": [
    "df_rep_pro_act = pd.read_csv('representatives_signed_pro_act.csv')\n",
    "df_amazon = pd.read_csv('amazon_donations.csv')"
   ]
  },
  {
   "cell_type": "code",
   "execution_count": null,
   "id": "24edfeba",
   "metadata": {},
   "outputs": [],
   "source": [
    "df_rep_pro_act = df_rep_pro_act.dropna(axis=1)\n",
    "df_rep_pro_act"
   ]
  },
  {
   "cell_type": "code",
   "execution_count": 25,
   "id": "5a5d7e1b",
   "metadata": {},
   "outputs": [],
   "source": [
    "import re"
   ]
  },
  {
   "cell_type": "code",
   "execution_count": null,
   "id": "1c7f0a84",
   "metadata": {},
   "outputs": [],
   "source": [
    "df_rep_pro_act['last_name'] = df_rep_pro_act.representatives.str.split('Rep. ', expand=True)[1].str.split(',', expand=True)[0].str.upper()\n",
    "df_rep_pro_act['first_name'] = df_rep_pro_act.representatives.str.split('Rep. ', expand=True)[1].str.split(',', expand=True)[1].str.split('[',expand=True)[0].str.upper()\n",
    "df_rep_pro_act['first_name'] = df_rep_pro_act.representatives.apply(lambda x: re.split('[\\s.\"]+', x)[2]).str.upper()\n",
    "df_rep_pro_act['rep_name'] = df_rep_pro_act['last_name'].str.cat(df_rep_pro_act['first_name'], sep=' ')\n",
    "df_rep_pro_act"
   ]
  },
  {
   "cell_type": "code",
   "execution_count": null,
   "id": "d4737d65",
   "metadata": {},
   "outputs": [],
   "source": [
    "df_amazon[['disbursement_amount', 'candidate_name', 'candidate_last_name', 'candidate_first_name', 'candidate_office']]"
   ]
  },
  {
   "cell_type": "code",
   "execution_count": 33,
   "id": "5f69b74f",
   "metadata": {},
   "outputs": [],
   "source": [
    "merged_df = df_amazon.merge(df_rep_pro_act.set_index(['last_name', 'first_name']), \n",
    "                      left_on=['candidate_last_name', 'candidate_first_name'], \n",
    "                      right_index=True, \n",
    "                      how='left')"
   ]
  },
  {
   "cell_type": "code",
   "execution_count": null,
   "id": "27ddcc53",
   "metadata": {},
   "outputs": [],
   "source": [
    "merged_df[['disbursement_amount', 'candidate_name', 'candidate_last_name', 'candidate_first_name', 'candidate_office', 'representatives']]"
   ]
  },
  {
   "cell_type": "code",
   "execution_count": 49,
   "id": "9fcd6545",
   "metadata": {},
   "outputs": [],
   "source": [
    "merged_df_1 = merged_df[merged_df['representatives'].notna()]\n",
    "rep_pro_act_and_amazon_money = merged_df_1[['disbursement_amount', 'candidate_name', 'candidate_last_name', 'candidate_first_name', 'candidate_office', 'representatives']]"
   ]
  },
  {
   "cell_type": "code",
   "execution_count": 50,
   "id": "5a78c5bc",
   "metadata": {},
   "outputs": [
    {
     "data": {
      "text/plain": [
       "197"
      ]
     },
     "execution_count": 50,
     "metadata": {},
     "output_type": "execute_result"
    }
   ],
   "source": [
    "len(rep_pro_act_and_amazon_money)"
   ]
  },
  {
   "cell_type": "code",
   "execution_count": 51,
   "id": "98a3e2c0",
   "metadata": {},
   "outputs": [],
   "source": [
    "rep_pro_act_and_amazon_money = rep_pro_act_and_amazon_money.groupby('representatives').sum('disbursement_amount').sort_values(by='disbursement_amount', ascending=True).reset_index()"
   ]
  },
  {
   "cell_type": "code",
   "execution_count": 52,
   "id": "4433643e",
   "metadata": {},
   "outputs": [
    {
     "data": {
      "text/plain": [
       "94"
      ]
     },
     "execution_count": 52,
     "metadata": {},
     "output_type": "execute_result"
    }
   ],
   "source": [
    "len(rep_pro_act_and_amazon_money)"
   ]
  },
  {
   "cell_type": "code",
   "execution_count": null,
   "id": "df6828dc",
   "metadata": {},
   "outputs": [],
   "source": [
    "rep_pro_act_and_amazon_money"
   ]
  },
  {
   "cell_type": "code",
   "execution_count": 54,
   "id": "254ae2ee",
   "metadata": {},
   "outputs": [],
   "source": [
    "rep_pro_act_and_amazon_money.to_csv('rep_pro_act_and_amazon_money.csv', index=False)"
   ]
  }
 ],
 "metadata": {
  "kernelspec": {
   "display_name": "Python 3 (ipykernel)",
   "language": "python",
   "name": "python3"
  },
  "language_info": {
   "codemirror_mode": {
    "name": "ipython",
    "version": 3
   },
   "file_extension": ".py",
   "mimetype": "text/x-python",
   "name": "python",
   "nbconvert_exporter": "python",
   "pygments_lexer": "ipython3",
   "version": "3.11.0rc2"
  }
 },
 "nbformat": 4,
 "nbformat_minor": 5
}
